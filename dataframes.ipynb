{
 "metadata": {
  "language_info": {
   "codemirror_mode": {
    "name": "ipython",
    "version": 3
   },
   "file_extension": ".py",
   "mimetype": "text/x-python",
   "name": "python",
   "nbconvert_exporter": "python",
   "pygments_lexer": "ipython3",
   "version": "3.8.4-final"
  },
  "orig_nbformat": 2,
  "kernelspec": {
   "name": "Python 3.8.4 64-bit",
   "display_name": "Python 3.8.4 64-bit",
   "metadata": {
    "interpreter": {
     "hash": "3f365e5b5684a26db45ca50964a67fe4bd491c70c8c430e036937535a4e3bbc6"
    }
   }
  }
 },
 "nbformat": 4,
 "nbformat_minor": 2,
 "cells": [
  {
   "cell_type": "code",
   "execution_count": 1,
   "metadata": {
    "tags": []
   },
   "outputs": [
    {
     "output_type": "stream",
     "name": "stdout",
     "text": "Dataframe structure\nDatetimeIndex([&#39;2012-01-03&#39;, &#39;2012-01-04&#39;, &#39;2012-01-05&#39;, &#39;2012-01-06&#39;,\n               &#39;2012-01-09&#39;, &#39;2012-01-10&#39;, &#39;2012-01-11&#39;, &#39;2012-01-12&#39;,\n               &#39;2012-01-13&#39;, &#39;2012-01-17&#39;,\n               ...\n               &#39;2019-12-04&#39;, &#39;2019-12-05&#39;, &#39;2019-12-06&#39;, &#39;2019-12-09&#39;,\n               &#39;2019-12-10&#39;, &#39;2019-12-11&#39;, &#39;2019-12-12&#39;, &#39;2019-12-13&#39;,\n               &#39;2019-12-16&#39;, &#39;2019-12-17&#39;],\n              dtype=&#39;datetime64[ns]&#39;, name=&#39;Date&#39;, length=2003, freq=None)\nIndex([&#39;High&#39;, &#39;Low&#39;, &#39;Open&#39;, &#39;Close&#39;, &#39;Volume&#39;, &#39;Adj Close&#39;], dtype=&#39;object&#39;)\n\nDataframe data\n                   High          Low         Open        Close      Volume  \\\nDate                                                                         \n2012-01-03   332.827484   324.966949   325.250885   331.462585   7380500.0   \n2012-01-04   333.873566   329.076538   331.273315   332.892242   5749400.0   \n2012-01-05   330.745300   326.889740   329.828735   328.274536   6590300.0   \n2012-01-06   328.767700   323.681763   328.344299   323.796326   5405900.0   \n2012-01-09   322.291962   309.455078   322.042908   310.067780  11688800.0   \n...                 ...          ...          ...          ...         ...   \n2019-12-11  1351.199951  1342.670044  1350.839966  1345.020020    850400.0   \n2019-12-12  1355.775024  1340.500000  1345.939941  1350.270020   1281000.0   \n2019-12-13  1353.093018  1343.869995  1347.949951  1347.829956   1549600.0   \n2019-12-16  1364.680054  1352.670044  1356.500000  1361.170044   1397300.0   \n2019-12-17  1365.000000  1351.322998  1362.890015  1355.119995   1854000.0   \n\n              Adj Close  \nDate                     \n2012-01-03   331.462585  \n2012-01-04   332.892242  \n2012-01-05   328.274536  \n2012-01-06   323.796326  \n2012-01-09   310.067780  \n...                 ...  \n2019-12-11  1345.020020  \n2019-12-12  1350.270020  \n2019-12-13  1347.829956  \n2019-12-16  1361.170044  \n2019-12-17  1355.119995  \n\n[2003 rows x 6 columns]\n\nClose series (single dimension)\nDate\n2012-01-03     331.462585\n2012-01-04     332.892242\n2012-01-05     328.274536\n2012-01-06     323.796326\n2012-01-09     310.067780\n                 ...     \n2019-12-11    1345.020020\n2019-12-12    1350.270020\n2019-12-13    1347.829956\n2019-12-16    1361.170044\n2019-12-17    1355.119995\nName: Close, Length: 2003, dtype: float64\n\nPanda array (ndarray)\n[[3.32827484e+02 3.24966949e+02 3.25250885e+02 3.31462585e+02\n  7.38050000e+06 3.31462585e+02]\n [3.33873566e+02 3.29076538e+02 3.31273315e+02 3.32892242e+02\n  5.74940000e+06 3.32892242e+02]\n [3.30745300e+02 3.26889740e+02 3.29828735e+02 3.28274536e+02\n  6.59030000e+06 3.28274536e+02]\n ...\n [1.35309302e+03 1.34387000e+03 1.34794995e+03 1.34782996e+03\n  1.54960000e+06 1.34782996e+03]\n [1.36468005e+03 1.35267004e+03 1.35650000e+03 1.36117004e+03\n  1.39730000e+06 1.36117004e+03]\n [1.36500000e+03 1.35132300e+03 1.36289001e+03 1.35512000e+03\n  1.85400000e+06 1.35512000e+03]]\n\nList first item\n[332.8274841308594, 324.9669494628906, 325.2508850097656, 331.46258544921875, 7380500.0, 331.46258544921875]\n"
    }
   ],
   "source": [
    "import pandas_datareader as web\n",
    "import pandas as pd\n",
    "\n",
    "price_data = web.DataReader('GOOG', data_source='yahoo', start='2012-01-01', end='2019-12-17')\n",
    "\n",
    "print('Dataframe structure')\n",
    "print(price_data.index)\n",
    "print(price_data.columns)\n",
    "print()\n",
    "\n",
    "print('Dataframe data')\n",
    "print(price_data)\n",
    "print()\n",
    "\n",
    "print('Close series (single dimension)')\n",
    "close = price_data['Close']\n",
    "print(close)\n",
    "print()\n",
    "\n",
    "print('Panda array (ndarray)')\n",
    "values = price_data.values\n",
    "print(values)\n",
    "print()\n",
    "\n",
    "print('List first item')\n",
    "list = price_data.values.tolist()\n",
    "print(list[0])"
   ]
  },
  {
   "cell_type": "code",
   "execution_count": 2,
   "metadata": {
    "tags": []
   },
   "outputs": [
    {
     "output_type": "stream",
     "name": "stdout",
     "text": "2012-01-03 00:00:00     331.462585\n2012-01-04 00:00:00     332.892242\n2012-01-05 00:00:00     328.274536\n2012-01-06 00:00:00     323.796326\n2012-01-09 00:00:00     310.067780\n                          ...     \n2019-12-12 00:00:00    1350.270020\n2019-12-13 00:00:00    1347.829956\n2019-12-16 00:00:00    1361.170044\n2019-12-17 00:00:00    1355.119995\nTest                      1.100000\nLength: 2004, dtype: float64\n1.1\n"
    }
   ],
   "source": [
    "# Add another row to a series\n",
    "close = close.append(pd.Series({'Test': 1.1}))\n",
    "print(close)\n",
    "print(close.loc['Test'])"
   ]
  },
  {
   "cell_type": "code",
   "execution_count": 3,
   "metadata": {
    "tags": []
   },
   "outputs": [
    {
     "output_type": "stream",
     "name": "stdout",
     "text": "            High  Low  Open  Close  Volume  Adj Close\n2020-01-01   1.0  2.0   3.0    4.0     5.0        6.0\n"
    }
   ],
   "source": [
    "# Create new dataframe using the column names of another dataframe\n",
    "df = pd.DataFrame([{1., 2., 3., 4., 5., 6.}], index=['2020-01-01'], columns=price_data.columns)\n",
    "print(df)"
   ]
  },
  {
   "cell_type": "code",
   "execution_count": 4,
   "metadata": {},
   "outputs": [
    {
     "output_type": "execute_result",
     "data": {
      "text/plain": "                            High          Low         Open        Close  \\\n2012-01-03 00:00:00   332.827484   324.966949   325.250885   331.462585   \n2012-01-04 00:00:00   333.873566   329.076538   331.273315   332.892242   \n2012-01-05 00:00:00   330.745300   326.889740   329.828735   328.274536   \n2012-01-06 00:00:00   328.767700   323.681763   328.344299   323.796326   \n2012-01-09 00:00:00   322.291962   309.455078   322.042908   310.067780   \n...                          ...          ...          ...          ...   \n2019-12-12 00:00:00  1355.775024  1340.500000  1345.939941  1350.270020   \n2019-12-13 00:00:00  1353.093018  1343.869995  1347.949951  1347.829956   \n2019-12-16 00:00:00  1364.680054  1352.670044  1356.500000  1361.170044   \n2019-12-17 00:00:00  1365.000000  1351.322998  1362.890015  1355.119995   \n2020-01-01              1.000000     2.000000     3.000000     4.000000   \n\n                         Volume    Adj Close  \n2012-01-03 00:00:00   7380500.0   331.462585  \n2012-01-04 00:00:00   5749400.0   332.892242  \n2012-01-05 00:00:00   6590300.0   328.274536  \n2012-01-06 00:00:00   5405900.0   323.796326  \n2012-01-09 00:00:00  11688800.0   310.067780  \n...                         ...          ...  \n2019-12-12 00:00:00   1281000.0  1350.270020  \n2019-12-13 00:00:00   1549600.0  1347.829956  \n2019-12-16 00:00:00   1397300.0  1361.170044  \n2019-12-17 00:00:00   1854000.0  1355.119995  \n2020-01-01                  5.0     6.000000  \n\n[2004 rows x 6 columns]",
      "text/html": "<div>\n<style scoped>\n    .dataframe tbody tr th:only-of-type {\n        vertical-align: middle;\n    }\n\n    .dataframe tbody tr th {\n        vertical-align: top;\n    }\n\n    .dataframe thead th {\n        text-align: right;\n    }\n</style>\n<table border=\"1\" class=\"dataframe\">\n  <thead>\n    <tr style=\"text-align: right;\">\n      <th></th>\n      <th>High</th>\n      <th>Low</th>\n      <th>Open</th>\n      <th>Close</th>\n      <th>Volume</th>\n      <th>Adj Close</th>\n    </tr>\n  </thead>\n  <tbody>\n    <tr>\n      <th>2012-01-03 00:00:00</th>\n      <td>332.827484</td>\n      <td>324.966949</td>\n      <td>325.250885</td>\n      <td>331.462585</td>\n      <td>7380500.0</td>\n      <td>331.462585</td>\n    </tr>\n    <tr>\n      <th>2012-01-04 00:00:00</th>\n      <td>333.873566</td>\n      <td>329.076538</td>\n      <td>331.273315</td>\n      <td>332.892242</td>\n      <td>5749400.0</td>\n      <td>332.892242</td>\n    </tr>\n    <tr>\n      <th>2012-01-05 00:00:00</th>\n      <td>330.745300</td>\n      <td>326.889740</td>\n      <td>329.828735</td>\n      <td>328.274536</td>\n      <td>6590300.0</td>\n      <td>328.274536</td>\n    </tr>\n    <tr>\n      <th>2012-01-06 00:00:00</th>\n      <td>328.767700</td>\n      <td>323.681763</td>\n      <td>328.344299</td>\n      <td>323.796326</td>\n      <td>5405900.0</td>\n      <td>323.796326</td>\n    </tr>\n    <tr>\n      <th>2012-01-09 00:00:00</th>\n      <td>322.291962</td>\n      <td>309.455078</td>\n      <td>322.042908</td>\n      <td>310.067780</td>\n      <td>11688800.0</td>\n      <td>310.067780</td>\n    </tr>\n    <tr>\n      <th>...</th>\n      <td>...</td>\n      <td>...</td>\n      <td>...</td>\n      <td>...</td>\n      <td>...</td>\n      <td>...</td>\n    </tr>\n    <tr>\n      <th>2019-12-12 00:00:00</th>\n      <td>1355.775024</td>\n      <td>1340.500000</td>\n      <td>1345.939941</td>\n      <td>1350.270020</td>\n      <td>1281000.0</td>\n      <td>1350.270020</td>\n    </tr>\n    <tr>\n      <th>2019-12-13 00:00:00</th>\n      <td>1353.093018</td>\n      <td>1343.869995</td>\n      <td>1347.949951</td>\n      <td>1347.829956</td>\n      <td>1549600.0</td>\n      <td>1347.829956</td>\n    </tr>\n    <tr>\n      <th>2019-12-16 00:00:00</th>\n      <td>1364.680054</td>\n      <td>1352.670044</td>\n      <td>1356.500000</td>\n      <td>1361.170044</td>\n      <td>1397300.0</td>\n      <td>1361.170044</td>\n    </tr>\n    <tr>\n      <th>2019-12-17 00:00:00</th>\n      <td>1365.000000</td>\n      <td>1351.322998</td>\n      <td>1362.890015</td>\n      <td>1355.119995</td>\n      <td>1854000.0</td>\n      <td>1355.119995</td>\n    </tr>\n    <tr>\n      <th>2020-01-01</th>\n      <td>1.000000</td>\n      <td>2.000000</td>\n      <td>3.000000</td>\n      <td>4.000000</td>\n      <td>5.0</td>\n      <td>6.000000</td>\n    </tr>\n  </tbody>\n</table>\n<p>2004 rows × 6 columns</p>\n</div>"
     },
     "metadata": {},
     "execution_count": 4
    }
   ],
   "source": [
    "# Join two dataframes: note must have the same column names to have desired effect\n",
    "price_data_appended = pd.concat([price_data, df])\n",
    "price_data_appended"
   ]
  },
  {
   "cell_type": "code",
   "execution_count": 11,
   "metadata": {
    "tags": []
   },
   "outputs": [
    {
     "output_type": "stream",
     "name": "stdout",
     "text": "331.46258544921875\n1.1\n"
    }
   ],
   "source": [
    "# Get row with index in Series\n",
    "print(close.iloc[0])\n",
    "\n",
    "# Get row with index value in Series\n",
    "print(close.loc['Test'])\n"
   ]
  },
  {
   "cell_type": "code",
   "execution_count": 90,
   "metadata": {
    "tags": []
   },
   "outputs": [
    {
     "output_type": "stream",
     "name": "stdout",
     "text": "High         3.328275e+02\nLow          3.249669e+02\nOpen         3.252509e+02\nClose        3.314626e+02\nVolume       7.380500e+06\nAdj Close    3.314626e+02\nName: 2012-01-03 00:00:00, dtype: float64\nHigh         1.0\nLow          2.0\nOpen         3.0\nClose        4.0\nVolume       5.0\nAdj Close    6.0\nName: 2020-01-01, dtype: float64\n"
    }
   ],
   "source": [
    "# Get row with index in Dataframe\n",
    "print(price_data_appended.iloc[0])\n",
    "\n",
    "# Get row with index value in Datafram\n",
    "print(price_data_appended.loc['2020-01-01'])"
   ]
  },
  {
   "cell_type": "code",
   "execution_count": null,
   "metadata": {},
   "outputs": [],
   "source": []
  }
 ]
}